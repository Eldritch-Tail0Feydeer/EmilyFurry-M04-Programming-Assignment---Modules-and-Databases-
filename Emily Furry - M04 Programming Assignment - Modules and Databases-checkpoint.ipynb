{
 "cells": [
  {
   "cell_type": "code",
   "execution_count": 2,
   "id": "20011476",
   "metadata": {},
   "outputs": [
    {
     "name": "stdout",
     "output_type": "stream",
     "text": [
      "Open 9-5 daily\n"
     ]
    }
   ],
   "source": [
    "# 11.1 Create a file called zoo.py. In it, define a function called hours()\n",
    "# that prints the string 'Open 9-5 daily'. Then, use the interactive interpreter\n",
    "# to import the zoo module and call its hours() function.\n",
    "\n",
    "from zoo import hours\n",
    "\n",
    "time = hours()\n",
    "\n",
    "print(time)"
   ]
  },
  {
   "cell_type": "code",
   "execution_count": 3,
   "id": "b5838fc4",
   "metadata": {},
   "outputs": [
    {
     "name": "stdout",
     "output_type": "stream",
     "text": [
      "Open 9-5 daily\n"
     ]
    }
   ],
   "source": [
    "# 11.2 In the interactive interpreter, import the zoo module as menagerie \n",
    "# and call its hours() function.\n",
    "\n",
    "from zoo import hours as menagerie\n",
    "\n",
    "time = menagerie()\n",
    "\n",
    "print(time)"
   ]
  },
  {
   "cell_type": "code",
   "execution_count": null,
   "id": "89b548aa",
   "metadata": {},
   "outputs": [],
   "source": [
    "# 16.8 Use the sqlalchemy module to connect to the sqlite3 database books.db \n",
    "# that you just made in exercise 16.4. As in 16.6, select and print the title \n",
    "# column from the book table in alphabetical order."
   ]
  }
 ],
 "metadata": {
  "kernelspec": {
   "display_name": "Python 3 (ipykernel)",
   "language": "python",
   "name": "python3"
  },
  "language_info": {
   "codemirror_mode": {
    "name": "ipython",
    "version": 3
   },
   "file_extension": ".py",
   "mimetype": "text/x-python",
   "name": "python",
   "nbconvert_exporter": "python",
   "pygments_lexer": "ipython3",
   "version": "3.10.9"
  }
 },
 "nbformat": 4,
 "nbformat_minor": 5
}
